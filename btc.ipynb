{
 "cells": [
  {
   "cell_type": "markdown",
   "id": "3929aa47-08a9-4d84-87e2-24342bc72a26",
   "metadata": {},
   "source": [
    "Send request for BTC pricing data and store response locally."
   ]
  },
  {
   "cell_type": "code",
   "execution_count": 12,
   "id": "fd3f3341-f619-4ca7-8ba4-154862925bb7",
   "metadata": {},
   "outputs": [],
   "source": [
    "import requests\n",
    "\n",
    "response = requests.get(\"https://www.satochi.co/allBTCPrice\")\n",
    "\n",
    "with open(\"btc_raw.txt\",\"wb\") as file:\n",
    "    file.write(response.content)"
   ]
  },
  {
   "cell_type": "markdown",
   "id": "7a8a1ec6-a8d7-4c73-858d-c169aacb563e",
   "metadata": {},
   "source": [
    "Convert response data into DataFrame"
   ]
  },
  {
   "cell_type": "code",
   "execution_count": 40,
   "id": "89af07c5-2c80-4939-89dd-0756a47ec97c",
   "metadata": {},
   "outputs": [],
   "source": [
    "import pandas as pd\n",
    "\n",
    "with open(\"btc_raw.txt\", \"rb\") as file:\n",
    "    btc = pd.read_json(file)\n",
    "    \n",
    "btc.columns = [\"date\",\"btc\"]\n",
    "btc[\"date\"] = pd.to_datetime(btc[\"date\"])\n",
    "btc = btc.set_index(\"date\")"
   ]
  },
  {
   "cell_type": "markdown",
   "id": "1fb4b28f-8221-4b84-b2fe-f2cb4ebf33f1",
   "metadata": {},
   "source": [
    "Send request for VT, BND and IGOV pricing data and store responses locally"
   ]
  },
  {
   "cell_type": "code",
   "execution_count": 145,
   "id": "6c051455-e1dd-41b7-b99d-3d01937df027",
   "metadata": {},
   "outputs": [],
   "source": [
    "wsj_api = \"https://www.wsj.com/market-data/quotes/etf/{}/historical-prices/download?MODVIEW=page&num_rows=8000&range_days=8000\"\n",
    "\n",
    "etfs = [\"vt\",\"bnd\",\"igov\"]\n",
    "\n",
    "headers = {\"User-Agent\": \"Mozilla/5.0 (Windows NT 10.0; Win64; x64) AppleWebKit/537.36 (KHTML, like Gecko) Chrome/70.0.3538.77 Safari/537.36\"}\n",
    "\n",
    "for etf in etfs:\n",
    "    response = requests.get(wsj_api.format(etf),headers=headers)\n",
    "    with open(etf+\"_raw.csv\",\"wb\") as file:\n",
    "        file.write(response.content)"
   ]
  },
  {
   "cell_type": "markdown",
   "id": "843659af-f8a2-4430-ba73-0b04db5bb849",
   "metadata": {},
   "source": [
    "Convert responses into DataFrames"
   ]
  },
  {
   "cell_type": "code",
   "execution_count": 146,
   "id": "c9b46918-7bca-4833-8d83-be7954b72c3f",
   "metadata": {},
   "outputs": [],
   "source": [
    "def csv_read(etf):\n",
    "    df = pd.read_csv(etf+\"_raw.csv\")\n",
    "    df = df.loc[:,[\"Date\",\" Close\"]]\n",
    "    df.columns = [\"date\", etf]\n",
    "    df[\"date\"] = pd.to_datetime(df[\"date\"])\n",
    "    df = df.set_index(\"date\")\n",
    "    \n",
    "    return df\n",
    "\n",
    "vt = csv_read(\"vt\")\n",
    "bnd = csv_read(\"bnd\")\n",
    "igov = csv_read(\"igov\")"
   ]
  },
  {
   "cell_type": "markdown",
   "id": "2245156a-a121-4237-a858-aa85726432e7",
   "metadata": {},
   "source": [
    "Create bond index that's 50/50 weighted between BND and IGOV"
   ]
  },
  {
   "cell_type": "code",
   "execution_count": 147,
   "id": "2e638350-a632-42c7-8886-ad440d0f5771",
   "metadata": {},
   "outputs": [],
   "source": [
    "bonds = pd.concat([bnd,igov], axis=1)\n",
    "\n",
    "bonds[\"bonds\"] = (bonds[\"bnd\"] + bonds[\"igov\"]) / 2\n",
    "\n",
    "bonds = bonds.drop([\"bnd\",\"igov\"], axis=1)\n",
    "\n",
    "bonds = bonds.dropna()"
   ]
  },
  {
   "cell_type": "markdown",
   "id": "6253db5a-58a0-42f8-b2c5-1de75101cd02",
   "metadata": {},
   "source": [
    "Combine all dataframes into a single one"
   ]
  },
  {
   "cell_type": "code",
   "execution_count": 148,
   "id": "7db85395-4087-48bd-9248-8a0a1393acf7",
   "metadata": {},
   "outputs": [],
   "source": [
    "combined_df = pd.concat([btc,vt,bonds], axis=1)\n",
    "\n",
    "columns = [\"btc\",\"equities\",\"bonds\"]\n",
    "combined_df.columns = columns"
   ]
  },
  {
   "cell_type": "markdown",
   "id": "92edd81c-9e0c-4308-abfa-67cad9db9c93",
   "metadata": {},
   "source": [
    "Take out first rows until all are not `NaN`"
   ]
  },
  {
   "cell_type": "code",
   "execution_count": 149,
   "id": "aa6d1087-2b99-4283-a945-e27fcf2d1bdd",
   "metadata": {},
   "outputs": [],
   "source": [
    "df_start = combined_df[\n",
    "    (combined_df[\"btc\"]>0) & (combined_df[\"bonds\"]>0) \n",
    "    & (combined_df[\"equities\"]>0)].index[0]\n",
    "\n",
    "combined_df = combined_df.loc[df_start:]"
   ]
  },
  {
   "cell_type": "markdown",
   "id": "281aa0ff-0374-4d17-b923-4abf33da6996",
   "metadata": {},
   "source": [
    "Fill `NaN` values"
   ]
  },
  {
   "cell_type": "code",
   "execution_count": 150,
   "id": "207d1f44-ac15-4666-8471-f116566ac74e",
   "metadata": {},
   "outputs": [],
   "source": [
    "combined_df = combined_df.fillna(method=\"ffill\")"
   ]
  },
  {
   "cell_type": "markdown",
   "id": "9d3101a5-786d-4986-842b-6bfb4e683f48",
   "metadata": {},
   "source": [
    "Create correlation matrix"
   ]
  },
  {
   "cell_type": "code",
   "execution_count": 152,
   "id": "7b1b9e42-e2d8-4ff3-8858-1a475efcdf23",
   "metadata": {},
   "outputs": [],
   "source": [
    "import numpy as np\n",
    "\n",
    "\n",
    "for col in columns:\n",
    "    combined_df[col+\"-log\"] = np.log(combined_df[col])\n",
    "    \n",
    "def my_fun(x):\n",
    "    return x.iloc[-1] - x.iloc[0]\n",
    "\n",
    "final_df = combined_df.rolling(window=356).apply(my_fun).iloc[356:,3:]\n",
    "final_df.columns = [\"Bitcoin\", \"Equities\", \"Bonds\"]\n",
    "\n",
    "corr = final_df.corr()"
   ]
  },
  {
   "cell_type": "markdown",
   "id": "a8bd5c85-dc58-475f-9928-413856a87111",
   "metadata": {},
   "source": [
    "Create correlation matrix chart"
   ]
  },
  {
   "cell_type": "code",
   "execution_count": 252,
   "id": "82b5fcd5-d9c3-49b5-adb7-3a3827f3db1c",
   "metadata": {},
   "outputs": [
    {
     "data": {
      "image/png": "[encoded data removed]",
      "text/plain": [
       "<Figure size 432x288 with 2 Axes>"
      ]
     },
     "metadata": {},
     "output_type": "display_data"
    }
   ],
   "source": [
    "import matplotlib.pyplot as plt\n",
    "import seaborn as sn\n",
    "\n",
    "params = {\n",
    "    \"axes.facecolor\":\"white\",\n",
    "    \"figure.facecolor\":\"white\",\n",
    "    \"font.size\": 18,\n",
    "    \"font.weight\": 1000,\n",
    "    \"axes.titlepad\": 13,\n",
    "}\n",
    "\n",
    "start_date = final_df.index[0].strftime(\"%d/%m/%Y\")\n",
    "end_date = final_df.index[-1].strftime(\"%d/%m/%Y\")\n",
    "\n",
    "title = \"Correlation matrix for 1-year rolling log\\nreturns from {} to {}\".format(start_date,end_date)\n",
    "\n",
    "res = sn.heatmap(corr, annot=True)\n",
    "\n",
    "res.set_title(title,fontsize=15)\n",
    "res.set_xticklabels(res.get_xmajorticklabels(), fontsize = 15)\n",
    "res.set_yticklabels(res.get_ymajorticklabels(), fontsize = 15)\n",
    "\n",
    "plt.yticks(rotation=0)\n",
    "\n",
    "plt.savefig(\"btc-corr.png\",bbox_inches='tight')"
   ]
  }
 ],
 "metadata": {
  "kernelspec": {
   "display_name": "Python 3 (ipykernel)",
   "language": "python",
   "name": "python3"
  },
  "language_info": {
   "codemirror_mode": {
    "name": "ipython",
    "version": 3
   },
   "file_extension": ".py",
   "mimetype": "text/x-python",
   "name": "python",
   "nbconvert_exporter": "python",
   "pygments_lexer": "ipython3",
   "version": "3.9.7"
  }
 },
 "nbformat": 4,
 "nbformat_minor": 5
}
